{
 "cells": [
  {
   "cell_type": "code",
   "execution_count": 1,
   "id": "5fc88cfc",
   "metadata": {},
   "outputs": [
    {
     "name": "stdout",
     "output_type": "stream",
     "text": [
      "Requirement already satisfied: pillow in c:\\users\\khushi shetty\\lib\\site-packages (10.1.0)\n",
      "Collecting gymnasium[box2d]\n",
      "  Downloading gymnasium-1.2.0-py3-none-any.whl.metadata (9.9 kB)\n",
      "Requirement already satisfied: numpy>=1.21.0 in c:\\users\\khushi shetty\\lib\\site-packages (from gymnasium[box2d]) (1.26.4)\n",
      "Collecting cloudpickle>=1.2.0 (from gymnasium[box2d])\n",
      "  Downloading cloudpickle-3.1.1-py3-none-any.whl.metadata (7.1 kB)\n",
      "Requirement already satisfied: typing-extensions>=4.3.0 in c:\\users\\khushi shetty\\lib\\site-packages (from gymnasium[box2d]) (4.12.2)\n",
      "Collecting farama-notifications>=0.0.1 (from gymnasium[box2d])\n",
      "  Downloading Farama_Notifications-0.0.4-py3-none-any.whl.metadata (558 bytes)\n",
      "Collecting box2d-py==2.3.5 (from gymnasium[box2d])\n",
      "  Downloading box2d-py-2.3.5.tar.gz (374 kB)\n",
      "  Preparing metadata (setup.py): started\n",
      "  Preparing metadata (setup.py): finished with status 'done'\n",
      "Collecting pygame>=2.1.3 (from gymnasium[box2d])\n",
      "  Downloading pygame-2.6.1-cp311-cp311-win_amd64.whl.metadata (13 kB)\n",
      "Collecting swig==4.* (from gymnasium[box2d])\n",
      "  Downloading swig-4.3.1-py3-none-win_amd64.whl.metadata (3.5 kB)\n",
      "Downloading swig-4.3.1-py3-none-win_amd64.whl (2.6 MB)\n",
      "   ---------------------------------------- 0.0/2.6 MB ? eta -:--:--\n",
      "   ---------------- ----------------------- 1.0/2.6 MB 5.0 MB/s eta 0:00:01\n",
      "   ------------------------------------ --- 2.4/2.6 MB 5.6 MB/s eta 0:00:01\n",
      "   ---------------------------------------- 2.6/2.6 MB 5.3 MB/s eta 0:00:00\n",
      "Downloading cloudpickle-3.1.1-py3-none-any.whl (20 kB)\n",
      "Downloading Farama_Notifications-0.0.4-py3-none-any.whl (2.5 kB)\n",
      "Downloading pygame-2.6.1-cp311-cp311-win_amd64.whl (10.6 MB)\n",
      "   ---------------------------------------- 0.0/10.6 MB ? eta -:--:--\n",
      "   --- ------------------------------------ 1.0/10.6 MB 6.3 MB/s eta 0:00:02\n",
      "   ------- -------------------------------- 2.1/10.6 MB 5.6 MB/s eta 0:00:02\n",
      "   ------------ --------------------------- 3.4/10.6 MB 5.4 MB/s eta 0:00:02\n",
      "   ---------------- ----------------------- 4.5/10.6 MB 5.4 MB/s eta 0:00:02\n",
      "   -------------------- ------------------- 5.5/10.6 MB 5.3 MB/s eta 0:00:01\n",
      "   ------------------------ --------------- 6.6/10.6 MB 5.3 MB/s eta 0:00:01\n",
      "   ---------------------------- ----------- 7.6/10.6 MB 5.2 MB/s eta 0:00:01\n",
      "   -------------------------------- ------- 8.7/10.6 MB 5.2 MB/s eta 0:00:01\n",
      "   ------------------------------------ --- 9.7/10.6 MB 5.2 MB/s eta 0:00:01\n",
      "   ---------------------------------------- 10.6/10.6 MB 5.1 MB/s eta 0:00:00\n",
      "Downloading gymnasium-1.2.0-py3-none-any.whl (944 kB)\n",
      "   ---------------------------------------- 0.0/944.3 kB ? eta -:--:--\n",
      "   ---------------------------------------- 944.3/944.3 kB 4.8 MB/s eta 0:00:00\n",
      "Building wheels for collected packages: box2d-py\n",
      "  Building wheel for box2d-py (setup.py): started\n",
      "  Building wheel for box2d-py (setup.py): finished with status 'error'\n",
      "  Running setup.py clean for box2d-py\n",
      "Failed to build box2d-py\n",
      "Note: you may need to restart the kernel to use updated packages.\n"
     ]
    },
    {
     "name": "stderr",
     "output_type": "stream",
     "text": [
      "DEPRECATION: Loading egg at c:\\users\\khushi shetty\\lib\\site-packages\\vboxapi-1.0-py3.11.egg is deprecated. pip 25.1 will enforce this behaviour change. A possible replacement is to use pip for package installation. Discussion can be found at https://github.com/pypa/pip/issues/12330\n",
      "  error: subprocess-exited-with-error\n",
      "  \n",
      "  python setup.py bdist_wheel did not run successfully.\n",
      "  exit code: 1\n",
      "  \n",
      "  [18 lines of output]\n",
      "  Using setuptools (version 73.0.1).\n",
      "  C:\\Users\\khushi shetty\\Lib\\site-packages\\setuptools\\_distutils\\dist.py:268: UserWarning: Unknown distribution option: 'test_suite'\n",
      "    warnings.warn(msg)\n",
      "  running bdist_wheel\n",
      "  running build\n",
      "  running build_py\n",
      "  creating build\n",
      "  creating build\\lib.win-amd64-cpython-311\n",
      "  creating build\\lib.win-amd64-cpython-311\\Box2D\n",
      "  copying library\\Box2D\\Box2D.py -> build\\lib.win-amd64-cpython-311\\Box2D\n",
      "  copying library\\Box2D\\__init__.py -> build\\lib.win-amd64-cpython-311\\Box2D\n",
      "  creating build\\lib.win-amd64-cpython-311\\Box2D\\b2\n",
      "  copying library\\Box2D\\b2\\__init__.py -> build\\lib.win-amd64-cpython-311\\Box2D\\b2\n",
      "  running build_ext\n",
      "  building 'Box2D._Box2D' extension\n",
      "  swigging Box2D\\Box2D.i to Box2D\\Box2D_wrap.cpp\n",
      "  swig.exe -python -c++ -IBox2D -small -O -includeall -ignoremissing -w201 -globals b2Globals -outdir library\\Box2D -keyword -w511 -D_SWIG_KWARGS -o Box2D\\Box2D_wrap.cpp Box2D\\Box2D.i\n",
      "  error: command 'swig.exe' failed: None\n",
      "  [end of output]\n",
      "  \n",
      "  note: This error originates from a subprocess, and is likely not a problem with pip.\n",
      "  ERROR: Failed building wheel for box2d-py\n",
      "\n",
      "[notice] A new release of pip is available: 25.0.1 -> 25.2\n",
      "[notice] To update, run: python.exe -m pip install --upgrade pip\n",
      "ERROR: Failed to build installable wheels for some pyproject.toml based projects (box2d-py)\n"
     ]
    }
   ],
   "source": [
    "pip install gymnasium[box2d] pillow"
   ]
  },
  {
   "cell_type": "code",
   "execution_count": 3,
   "id": "44cb78d3",
   "metadata": {},
   "outputs": [
    {
     "name": "stdout",
     "output_type": "stream",
     "text": [
      "Collecting gymnasium\n",
      "  Using cached gymnasium-1.2.0-py3-none-any.whl.metadata (9.9 kB)\n",
      "Requirement already satisfied: numpy>=1.21.0 in c:\\users\\khushi shetty\\lib\\site-packages (from gymnasium) (1.26.4)\n",
      "Collecting cloudpickle>=1.2.0 (from gymnasium)\n",
      "  Using cached cloudpickle-3.1.1-py3-none-any.whl.metadata (7.1 kB)\n",
      "Requirement already satisfied: typing-extensions>=4.3.0 in c:\\users\\khushi shetty\\lib\\site-packages (from gymnasium) (4.12.2)\n",
      "Collecting farama-notifications>=0.0.1 (from gymnasium)\n",
      "  Using cached Farama_Notifications-0.0.4-py3-none-any.whl.metadata (558 bytes)\n",
      "Using cached gymnasium-1.2.0-py3-none-any.whl (944 kB)\n",
      "Using cached cloudpickle-3.1.1-py3-none-any.whl (20 kB)\n",
      "Using cached Farama_Notifications-0.0.4-py3-none-any.whl (2.5 kB)\n",
      "Installing collected packages: farama-notifications, cloudpickle, gymnasium\n",
      "Successfully installed cloudpickle-3.1.1 farama-notifications-0.0.4 gymnasium-1.2.0\n",
      "Note: you may need to restart the kernel to use updated packages.\n"
     ]
    },
    {
     "name": "stderr",
     "output_type": "stream",
     "text": [
      "DEPRECATION: Loading egg at c:\\users\\khushi shetty\\lib\\site-packages\\vboxapi-1.0-py3.11.egg is deprecated. pip 25.1 will enforce this behaviour change. A possible replacement is to use pip for package installation. Discussion can be found at https://github.com/pypa/pip/issues/12330\n",
      "\n",
      "[notice] A new release of pip is available: 25.0.1 -> 25.2\n",
      "[notice] To update, run: python.exe -m pip install --upgrade pip\n"
     ]
    }
   ],
   "source": [
    "pip install gymnasium"
   ]
  },
  {
   "cell_type": "code",
   "execution_count": 6,
   "id": "a59e484e",
   "metadata": {},
   "outputs": [
    {
     "name": "stdout",
     "output_type": "stream",
     "text": [
      "Collecting swigNote: you may need to restart the kernel to use updated packages.\n",
      "\n",
      "  Using cached swig-4.3.1-py3-none-win_amd64.whl.metadata (3.5 kB)\n",
      "Using cached swig-4.3.1-py3-none-win_amd64.whl (2.6 MB)\n",
      "Installing collected packages: swig\n",
      "Successfully installed swig-4.3.1\n"
     ]
    },
    {
     "name": "stderr",
     "output_type": "stream",
     "text": [
      "DEPRECATION: Loading egg at c:\\users\\khushi shetty\\lib\\site-packages\\vboxapi-1.0-py3.11.egg is deprecated. pip 25.1 will enforce this behaviour change. A possible replacement is to use pip for package installation. Discussion can be found at https://github.com/pypa/pip/issues/12330\n",
      "\n",
      "[notice] A new release of pip is available: 25.0.1 -> 25.2\n",
      "[notice] To update, run: python.exe -m pip install --upgrade pip\n"
     ]
    }
   ],
   "source": [
    "pip install swig"
   ]
  },
  {
   "cell_type": "code",
   "execution_count": 7,
   "id": "dcd2b475",
   "metadata": {},
   "outputs": [
    {
     "name": "stdout",
     "output_type": "stream",
     "text": [
      "Requirement already satisfied: gymnasium[box2d] in c:\\users\\khushi shetty\\lib\\site-packages (1.2.0)\n",
      "Requirement already satisfied: numpy>=1.21.0 in c:\\users\\khushi shetty\\lib\\site-packages (from gymnasium[box2d]) (1.26.4)\n",
      "Requirement already satisfied: cloudpickle>=1.2.0 in c:\\users\\khushi shetty\\lib\\site-packages (from gymnasium[box2d]) (3.1.1)\n",
      "Requirement already satisfied: typing-extensions>=4.3.0 in c:\\users\\khushi shetty\\lib\\site-packages (from gymnasium[box2d]) (4.12.2)\n",
      "Requirement already satisfied: farama-notifications>=0.0.1 in c:\\users\\khushi shetty\\lib\\site-packages (from gymnasium[box2d]) (0.0.4)\n",
      "Collecting box2d-py==2.3.5 (from gymnasium[box2d])\n",
      "  Using cached box2d-py-2.3.5.tar.gz (374 kB)\n",
      "  Preparing metadata (setup.py): started\n",
      "  Preparing metadata (setup.py): finished with status 'done'\n",
      "Collecting pygame>=2.1.3 (from gymnasium[box2d])\n",
      "  Using cached pygame-2.6.1-cp311-cp311-win_amd64.whl.metadata (13 kB)\n",
      "Requirement already satisfied: swig==4.* in c:\\users\\khushi shetty\\lib\\site-packages (from gymnasium[box2d]) (4.3.1)\n",
      "Using cached pygame-2.6.1-cp311-cp311-win_amd64.whl (10.6 MB)\n",
      "Building wheels for collected packages: box2d-py\n",
      "  Building wheel for box2d-py (setup.py): started\n",
      "  Building wheel for box2d-py (setup.py): finished with status 'done'\n",
      "  Created wheel for box2d-py: filename=box2d_py-2.3.5-cp311-cp311-win_amd64.whl size=460698 sha256=211ebf7cf95ea93b0bcc5bdf035600dc3978935fa3347c41fd998d384113ba41\n",
      "  Stored in directory: c:\\users\\khushi shetty\\appdata\\local\\pip\\cache\\wheels\\ab\\f1\\0c\\d56f4a2bdd12bae0a0693ec33f2f0daadb5eb9753c78fa5308\n",
      "Successfully built box2d-py\n",
      "Installing collected packages: box2d-py, pygame\n",
      "Successfully installed box2d-py-2.3.5 pygame-2.6.1\n",
      "Note: you may need to restart the kernel to use updated packages.\n"
     ]
    },
    {
     "name": "stderr",
     "output_type": "stream",
     "text": [
      "DEPRECATION: Loading egg at c:\\users\\khushi shetty\\lib\\site-packages\\vboxapi-1.0-py3.11.egg is deprecated. pip 25.1 will enforce this behaviour change. A possible replacement is to use pip for package installation. Discussion can be found at https://github.com/pypa/pip/issues/12330\n",
      "\n",
      "[notice] A new release of pip is available: 25.0.1 -> 25.2\n",
      "[notice] To update, run: python.exe -m pip install --upgrade pip\n"
     ]
    }
   ],
   "source": [
    "pip install \"gymnasium[box2d]\""
   ]
  },
  {
   "cell_type": "markdown",
   "id": "37e7ca88",
   "metadata": {},
   "source": [
    "For LunarLander-v2"
   ]
  },
  {
   "cell_type": "code",
   "execution_count": 1,
   "id": "7b67de43",
   "metadata": {},
   "outputs": [
    {
     "name": "stdout",
     "output_type": "stream",
     "text": [
      "Observation space: Box([ -2.5        -2.5       -10.        -10.         -6.2831855 -10.\n",
      "  -0.         -0.       ], [ 2.5        2.5       10.        10.         6.2831855 10.\n",
      "  1.         1.       ], (8,), float32)\n",
      "Action space: Discrete(4)\n"
     ]
    }
   ],
   "source": [
    "#TASK 1\n",
    "import gymnasium as gym\n",
    "\n",
    "env = gym.make(\"LunarLander-v3\", render_mode=\"human\")\n",
    "\n",
    "# Print observation and action space right after environment creation\n",
    "print(\"Observation space:\", env.observation_space)\n",
    "print(\"Action space:\", env.action_space)\n",
    "\n",
    "observation, info = env.reset(seed=42)\n",
    "for _ in range(1000):\n",
    "    action = env.action_space.sample()\n",
    "    observation, reward, terminated, truncated, info = env.step(action)\n",
    "    if terminated or truncated:\n",
    "        observation, info = env.reset()\n",
    "env.close()\n"
   ]
  },
  {
   "cell_type": "markdown",
   "id": "8295da61",
   "metadata": {},
   "source": [
    "TASK 2\n",
    "1. Observation Space (What you see):\n",
    "The observation is an 8-dimensional vector (shape: (8,), dtype: float32) describing the lander’s state:\n",
    "- x position: horizontal coordinate\n",
    "- y position: vertical coordinate\n",
    "- x velocity: horizontal speed\n",
    "- y velocity: vertical speed\n",
    "- lander angle: orientation of the lander (radians)\n",
    "- angular velocity: how fast the lander's angle is changing\n",
    "- left leg contact: 1 if left leg has contact with ground, else 0\n",
    "- right leg contact: 1 if right leg has contact with ground, else 0\n",
    "These values are all continuous except the last two, which are binary.\n",
    "\n",
    "2. Action Space (What you can do):\n",
    "This space is Discrete(4) (i.e., 4 possible actions):\n",
    "- 0: Do nothing\n",
    "- 1: Fire left orientation engine\n",
    "- 2: Fire main engine (upward thrust)\n",
    "- 3: Fire right orientation engine\n",
    "At every time step, you choose one of these actions.\n",
    "\n",
    "3. Goal/Objective:\n",
    "The goal is to land the lunar module safely on the designated landing pad:\n",
    "- Land gently (low velocity)\n",
    "- Keep it upright\n",
    "- Avoid crashing (high speed or tipping over disallowed)\n",
    "- Bonus points for landing on the landing pad with both legs\n",
    "- Penalized for fuel use and hard landings/crashes\n",
    "\n",
    "4. How long episodes typically last\n",
    "- Episodes usually last up to 1000 time steps, or until the lander crashes or lands successfully.\n",
    "- The environment will \"truncate\" (end) at a fixed step limit if you don’t land or crash before that.\n",
    "\n",
    "5. What makes it challenging\n",
    "- Balance between thrust and fuel: Excessive thrust penalizes reward, but insufficient control leads to a crash.\n",
    "- Stability: Keeping the lander upright and slowing vertical/horizontal speeds.\n",
    "- Precise landing: Must land softly and with correct orientation.\n",
    "- Delayed and complex effects: Engine actions affect position, speed, and orientation with physics dynamics (not instant or simple).\n",
    "- Noisy starting conditions: The lander starts in different positions and orientations each episode."
   ]
  },
  {
   "cell_type": "markdown",
   "id": "52711e83",
   "metadata": {},
   "source": [
    "For CarRacing-v2"
   ]
  },
  {
   "cell_type": "code",
   "execution_count": 10,
   "id": "4478af05",
   "metadata": {},
   "outputs": [
    {
     "name": "stdout",
     "output_type": "stream",
     "text": [
      "Observation space: Box(0, 255, (96, 96, 3), uint8)\n",
      "Action space: Box([-1.  0.  0.], 1.0, (3,), float32)\n"
     ]
    }
   ],
   "source": [
    "import gymnasium as gym\n",
    "\n",
    "env = gym.make(\"CarRacing-v3\", render_mode=\"human\")\n",
    "\n",
    "# Print observation and action space right after environment creation\n",
    "print(\"Observation space:\", env.observation_space)\n",
    "print(\"Action space:\", env.action_space)\n",
    "\n",
    "observation, info = env.reset(seed=42)\n",
    "for _ in range(1000):\n",
    "    action = env.action_space.sample()\n",
    "    observation, reward, terminated, truncated, info = env.step(action)\n",
    "    if terminated or truncated:\n",
    "        observation, info = env.reset()\n",
    "env.close()\n"
   ]
  },
  {
   "cell_type": "markdown",
   "id": "e5796bc3",
   "metadata": {},
   "source": [
    "1. Observation Space (What you see)\n",
    "- Type: Box(0, 255, (96, 96, 3), uint8)\n",
    "- This is a 96 x 96 RGB image of the game screen at each step.\n",
    "- You receive the pixels as a NumPy array: shape = (96, 96, 3), values are integers from 0–255.\n",
    "- Just a top-down visual view of the racetrack and car on it, with no extra state info (speed, location, etc.).\n",
    "\n",
    "2. Action Space (What you can do)\n",
    "- Type: Box([-1. 0. 0.], [1. 1. 1.], (3,), float32)\n",
    "- It’s a continuous action vector of size 3, where each component has a specific meaning:\n",
    "- Steering (min -1.0, max 1.0): Left (-1.0) to right (+1.0) steering angle.\n",
    "- Gas (min 0.0, max 1.0): Accelerator pedal. 0 = no gas, 1 = full throttle.\n",
    "- Brake (min 0.0, max 1.0): Brake pedal. 0 = no brake, 1 = full brake.\n",
    "- You specify all three actions at every step, e.g. [-0.5, 1.0, 0.0] = turn left with full gas and no brake.\n",
    "\n",
    "3. Goal/Objective\n",
    "- The main goal is to drive the car around a procedurally-generated track as fast and accurately as possible.\n",
    "- You are rewarded for visiting new parts of the track (exploration), and penalized for driving off the track or wasting time.\n",
    "- The aim is to maximize total reward, which generally means completing as much of the track as possible within the episode’s time limit, staying on the road, and driving smoothly/efficiently.\n",
    "\n",
    "4. How long episodes typically last\n",
    "- Up to 1000 time steps (frames), or until termination conditions are met (off-track for too long / car is stopped and can't continue).\n",
    "- Usually, an episode ends early if the car goes off the track and fails to recover for several frames, or after finishing the track.\n",
    "\n",
    "5. What makes it challenging\n",
    "- Raw pixel input: The agent has to interpret images (no built-in info about speed, position, road layout), making it a vision-based control problem (like real-world driving).\n",
    "- Continuous controls: The three actions must be finely coordinated, not just discrete choices.\n",
    "- Procedural tracks: Every episode generates a new, random track with sharp corners, straightaways, and varied obstacles, so memorization won’t work.\n",
    "- Penalties for mistakes: Driving off the road or spinning out leads to large penalties or episode termination, encouraging cautious but efficient driving.\n",
    "- Long-term planning: Good performance requires anticipating corners and planning steering/throttle actions ahead, not just reacting to immediate screen changes."
   ]
  }
 ],
 "metadata": {
  "kernelspec": {
   "display_name": "Python 3 (ipykernel)",
   "language": "python",
   "name": "python3"
  },
  "language_info": {
   "codemirror_mode": {
    "name": "ipython",
    "version": 3
   },
   "file_extension": ".py",
   "mimetype": "text/x-python",
   "name": "python",
   "nbconvert_exporter": "python",
   "pygments_lexer": "ipython3",
   "version": "3.11.1"
  }
 },
 "nbformat": 4,
 "nbformat_minor": 5
}
